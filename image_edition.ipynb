{
  "nbformat": 4,
  "nbformat_minor": 0,
  "metadata": {
    "colab": {
      "name": "image_edition.ipynb",
      "provenance": [],
      "authorship_tag": "ABX9TyMF65yhj5EN46QaAcSlx8o/",
      "include_colab_link": true
    },
    "kernelspec": {
      "name": "python3",
      "display_name": "Python 3"
    },
    "language_info": {
      "name": "python"
    }
  },
  "cells": [
    {
      "cell_type": "markdown",
      "metadata": {
        "id": "view-in-github",
        "colab_type": "text"
      },
      "source": [
        "<a href=\"https://colab.research.google.com/github/clementsiegrist/image_editing/blob/main/image_edition.ipynb\" target=\"_parent\"><img src=\"https://colab.research.google.com/assets/colab-badge.svg\" alt=\"Open In Colab\"/></a>"
      ]
    },
    {
      "cell_type": "markdown",
      "source": [
        "# Mosaic"
      ],
      "metadata": {
        "id": "-UHI565N47-O"
      }
    },
    {
      "cell_type": "code",
      "source": [
        "from google.colab import files\n",
        "from google.colab import drive\n",
        "drive.mount('/content/drive')"
      ],
      "metadata": {
        "id": "jm90ULr-4-Qy"
      },
      "execution_count": null,
      "outputs": []
    },
    {
      "cell_type": "code",
      "source": [
        "!git clone https://github.com/Datadolittle/Photo_Mosaic.git\n",
        "%cd Photo_Mosaic/"
      ],
      "metadata": {
        "id": "omUnv3Tt5AlS"
      },
      "execution_count": null,
      "outputs": []
    },
    {
      "cell_type": "code",
      "source": [
        "!python scripts/Mosaic_Creator.py --target /content/drive/MyDrive/best/IMG_20220320_164103.jpg --images /content/drive/MyDrive/best/ --grid 200 200 --output data/Mosaic.jpeg"
      ],
      "metadata": {
        "id": "s9BjrcJM5EPI"
      },
      "execution_count": null,
      "outputs": []
    },
    {
      "cell_type": "markdown",
      "source": [
        "# Background substraction and removal"
      ],
      "metadata": {
        "id": "Xj-EZm9F5J_3"
      }
    },
    {
      "cell_type": "code",
      "source": [
        "%cd ../"
      ],
      "metadata": {
        "id": "d4kZawBn5M-c"
      },
      "execution_count": null,
      "outputs": []
    },
    {
      "cell_type": "code",
      "source": [
        "!git clone https://github.com/thiagoambiel/PortraitStylization.git\n",
        "%cd PortraitStylization/\n",
        "!pip install -r requirements.txt"
      ],
      "metadata": {
        "id": "HwZWH5BV5MW2"
      },
      "execution_count": null,
      "outputs": []
    },
    {
      "cell_type": "code",
      "source": [
        "from PIL import Image\n",
        "from style_transfer import StyleTransfer\n",
        "from remove_bg import BackgroundRemoval\n",
        "\n",
        "# Load content image.\n",
        "original_image = Image.open(\"content.jpg\")\n",
        "\n",
        "# Load MODNet and remove content image background.\n",
        "background_removal = BackgroundRemoval(\"./weights/modnet.pth\", device=\"cpu\")\n",
        "\n",
        "content_image = background_removal.remove_background(\n",
        "    img=original_image,\n",
        "    bg_color=\"black\",\n",
        ")\n",
        "\n",
        "# Load style images.\n",
        "style_images = [\n",
        "    Image.open(\"style_1.jpg\"), \n",
        "    Image.open(\"style_2.jpg\"),\n",
        "]\n",
        "\n",
        "# Load and run style transfer module.\n",
        "st = StyleTransfer(device=\"cpu\", pooling=\"max\")\n",
        "\n",
        "result_image = st.stylize(\n",
        "    content_image=content_image, \n",
        "    style_images=style_images,\n",
        "    content_weight=0.05,\n",
        "    face_weight=0.25,\n",
        ")\n",
        "\n",
        "# Save result to disk.\n",
        "result_image.save(\"out.png\")"
      ],
      "metadata": {
        "id": "KyjxjI708dQ4"
      },
      "execution_count": null,
      "outputs": []
    },
    {
      "cell_type": "markdown",
      "source": [
        "## Style Transfer "
      ],
      "metadata": {
        "id": "mfV4VklY8nnm"
      }
    },
    {
      "cell_type": "code",
      "source": [
        "!python stylize.py input.jpg  -o out.png -cw 0.05 -fw 0.25"
      ],
      "metadata": {
        "id": "IxkGGZV48pUc"
      },
      "execution_count": null,
      "outputs": []
    },
    {
      "cell_type": "markdown",
      "source": [
        "## Background removal "
      ],
      "metadata": {
        "id": "Wrh6Dbrk8rli"
      }
    },
    {
      "cell_type": "code",
      "source": [
        ""
      ],
      "metadata": {
        "id": "S8bJjF-b8d0a"
      },
      "execution_count": null,
      "outputs": []
    },
    {
      "cell_type": "markdown",
      "source": [
        "# Image Concat\n",
        "\n",
        "https://note.nkmk.me/en/python-pillow-concat-images/"
      ],
      "metadata": {
        "id": "Lg2Thewp5f_1"
      }
    },
    {
      "cell_type": "code",
      "source": [
        "def get_concat_h(im1, im2):\n",
        "\n",
        "    dst = Image.new('RGB', (im1.width + im2.width, im1.height))\n",
        "    dst.paste(im1, (0, 0))\n",
        "    dst.paste(im2, (im1.width, 0))\n",
        "    return dst\n",
        "\n",
        "def get_concat_v(im1, im2):\n",
        "\n",
        "    dst = Image.new('RGB', (im1.width, im1.height + im2.height))\n",
        "    dst.paste(im1, (0, 0))\n",
        "    dst.paste(im2, (0, im1.height))\n",
        "    return dst\n",
        "\n",
        "def get_concat_h_cut(im1, im2):\n",
        "\n",
        "    dst = Image.new('RGB', (im1.width + im2.width, min(im1.height, im2.height)))\n",
        "    dst.paste(im1, (0, 0))\n",
        "    dst.paste(im2, (im1.width, 0))\n",
        "    return dst\n",
        "\n",
        "def get_concat_v_cut(im1, im2):\n",
        "\n",
        "    dst = Image.new('RGB', (min(im1.width, im2.width), im1.height + im2.height))\n",
        "    dst.paste(im1, (0, 0))\n",
        "    dst.paste(im2, (0, im1.height))\n",
        "    return dst\n",
        "\n",
        "def get_concat_h_cut_center(im1, im2):\n",
        "\n",
        "    dst = Image.new('RGB', (im1.width + im2.width, min(im1.height, im2.height)))\n",
        "    dst.paste(im1, (0, 0))\n",
        "    dst.paste(im2, (im1.width, (im1.height - im2.height) // 2))\n",
        "    return dst\n",
        "\n",
        "def get_concat_v_cut_center(im1, im2):\n",
        "\n",
        "    dst = Image.new('RGB', (min(im1.width, im2.width), im1.height + im2.height))\n",
        "    dst.paste(im1, (0, 0))\n",
        "    dst.paste(im2, ((im1.width - im2.width) // 2, im1.height))\n",
        "    return dst\n",
        "\n",
        "def get_concat_h_blank(im1, im2, color=(0, 0, 0)):\n",
        "\n",
        "    dst = Image.new('RGB', (im1.width + im2.width, max(im1.height, im2.height)), color)\n",
        "    dst.paste(im1, (0, 0))\n",
        "    dst.paste(im2, (im1.width, 0))\n",
        "    return dst\n",
        "\n",
        "def get_concat_v_blank(im1, im2, color=(0, 0, 0)):\n",
        "\n",
        "    dst = Image.new('RGB', (max(im1.width, im2.width), im1.height + im2.height), color)\n",
        "    dst.paste(im1, (0, 0))\n",
        "    dst.paste(im2, (0, im1.height))\n",
        "    return dst\n",
        "\n",
        "\n",
        "def get_concat_h_multi_resize(im_list, resample=Image.BICUBIC):\n",
        "\n",
        "    min_height = min(im.height for im in im_list)\n",
        "    im_list_resize = [im.resize((int(im.width * min_height / im.height), min_height),resample=resample)\n",
        "                      for im in im_list]\n",
        "    total_width = sum(im.width for im in im_list_resize)\n",
        "    dst = Image.new('RGB', (total_width, min_height))\n",
        "    pos_x = 0\n",
        "    for im in im_list_resize:\n",
        "        dst.paste(im, (pos_x, 0))\n",
        "        pos_x += im.width\n",
        "    return dst\n",
        "\n",
        "def get_concat_v_multi_resize(im_list, resample=Image.BICUBIC):\n",
        "\n",
        "    min_width = min(im.width for im in im_list)\n",
        "    im_list_resize = [im.resize((min_width, int(im.height * min_width / im.width)),resample=resample)\n",
        "                      for im in im_list]\n",
        "    total_height = sum(im.height for im in im_list_resize)\n",
        "    dst = Image.new('RGB', (min_width, total_height))\n",
        "    pos_y = 0\n",
        "    for im in im_list_resize:\n",
        "        dst.paste(im, (0, pos_y))\n",
        "        pos_y += im.height\n",
        "\n",
        "    return dst\n",
        "\n",
        "def get_concat_h_repeat(im, column):\n",
        "\n",
        "    dst = Image.new('RGB', (im.width * column, im.height))\n",
        "    for x in range(column):\n",
        "        dst.paste(im, (x * im.width, 0))\n",
        "    return dst\n",
        "\n",
        "def get_concat_v_repeat(im, row):\n",
        "\n",
        "    dst = Image.new('RGB', (im.width, im.height * row))\n",
        "    for y in range(row):\n",
        "        dst.paste(im, (0, y * im.height))\n",
        "    return dst\n",
        "\n",
        "def get_concat_tile_repeat(im, row, column):\n",
        "\n",
        "    dst_h = get_concat_h_repeat(im, column)\n",
        "    return get_concat_v_repeat(dst_h, row)\n",
        "\n",
        "def get_concat_tile_resize(im_list_2d, resample=Image.BICUBIC):\n",
        "\n",
        "    im_list_v = [get_concat_h_multi_resize(im_list_h, resample=resample) for im_list_h in im_list_2d]\n",
        "    return get_concat_v_multi_resize(im_list_v, resample=resample)"
      ],
      "metadata": {
        "id": "zxIlG1DH8zO8"
      },
      "execution_count": null,
      "outputs": []
    },
    {
      "cell_type": "code",
      "source": [
        "from PIL import Image\n",
        "\n",
        "im1 = Image.open('/content/drive/MyDrive/best/IMG_20220320_164103.jpg')\n",
        "im2 = Image.open('/content/drive/MyDrive/best/charo_nouer.png')\n",
        "im3 = Image.open('/content/drive/MyDrive/best/202203114774371443845825173.jpg')\n",
        "im4 = Image.open('/content/drive/MyDrive/best/20220220_152309.jpg')"
      ],
      "metadata": {
        "id": "zmpAGn9_9CxZ"
      },
      "execution_count": null,
      "outputs": []
    },
    {
      "cell_type": "code",
      "source": [
        "get_concat_h(im1, im1).save('data/dst/pillow_concat_h.jpg')\n",
        "get_concat_v(im1, im1).save('data/dst/pillow_concat_v.jpg')\n",
        "\n",
        "get_concat_h_cut(im1, im2).save('data/dst/pillow_concat_h_cut.jpg')\n",
        "get_concat_v_cut(im1, im2).save('data/dst/pillow_concat_v_cut.jpg')\n",
        "\n",
        "get_concat_h_cut_center(im1, im2).save('data/dst/pillow_concat_h_cut_center.jpg')\n",
        "get_concat_v_cut_center(im1, im2).save('data/dst/pillow_concat_v_cut_center.jpg')\n",
        "\n",
        "get_concat_h_multi_resize([im1, im2, im1]).save('data/dst/pillow_concat_h_multi_resize.jpg')\n",
        "get_concat_v_multi_resize([im1, im2, im1]).save('data/dst/pillow_concat_v_multi_resize.jpg')"
      ],
      "metadata": {
        "id": "U2BSZjee84W6"
      },
      "execution_count": null,
      "outputs": []
    },
    {
      "cell_type": "code",
      "source": [
        "get_concat_tile_resize([[im1],\n",
        "                        [im1, im2],\n",
        "                        [im3, im1, im2],\n",
        "                        [im1, im2, im3, im4]]).save('pillow_concat_tile_resize.jpg')"
      ],
      "metadata": {
        "id": "vY551Ltb86yJ"
      },
      "execution_count": null,
      "outputs": []
    },
    {
      "cell_type": "code",
      "source": [
        "get_concat_tile_resize([[im2],\n",
        "                        [im1, im2],\n",
        "                        [im3, im1, im4]]).save('pillow_concat_tile_resize_3.jpg')"
      ],
      "metadata": {
        "id": "EXbxPvij8-JW"
      },
      "execution_count": null,
      "outputs": []
    }
  ]
}